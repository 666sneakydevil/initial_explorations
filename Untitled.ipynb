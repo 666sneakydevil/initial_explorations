{
 "cells": [
  {
   "cell_type": "code",
   "execution_count": 5,
   "id": "01691bb0-85ba-4980-85a1-54d634fbfa3d",
   "metadata": {},
   "outputs": [],
   "source": [
    "import pandas as pd\n",
    "import numpy as np\n",
    "from scipy import stats\n",
    "from scipy.stats import laplace"
   ]
  },
  {
   "cell_type": "code",
   "execution_count": 16,
   "id": "49eddcb2-5d0b-4886-bd4b-3cdc56b6fe46",
   "metadata": {},
   "outputs": [
    {
     "name": "stdout",
     "output_type": "stream",
     "text": [
      "0.3934693402873666\n"
     ]
    }
   ],
   "source": [
    "eps = 1\n",
    "scaly = 1/eps\n",
    "print(laplace.cdf(0.5, loc=0, scale=scaly) - laplace.cdf(-0.5, loc=0, scale=scaly))"
   ]
  },
  {
   "cell_type": "code",
   "execution_count": null,
   "id": "67a5dc09-97a3-4ceb-a23e-112e4cc1f4bc",
   "metadata": {},
   "outputs": [],
   "source": []
  }
 ],
 "metadata": {
  "kernelspec": {
   "display_name": "Python 3",
   "language": "python",
   "name": "python3"
  },
  "language_info": {
   "codemirror_mode": {
    "name": "ipython",
    "version": 3
   },
   "file_extension": ".py",
   "mimetype": "text/x-python",
   "name": "python",
   "nbconvert_exporter": "python",
   "pygments_lexer": "ipython3",
   "version": "3.8.8"
  }
 },
 "nbformat": 4,
 "nbformat_minor": 5
}
