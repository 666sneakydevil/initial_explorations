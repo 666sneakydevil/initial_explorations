{
 "cells": [
  {
   "cell_type": "code",
   "execution_count": 81,
   "id": "eb942c17-ead3-431a-bce7-9bd246ec623d",
   "metadata": {},
   "outputs": [],
   "source": [
    "import pandas as pd\n",
    "import numpy as np\n",
    "import matplotlib.pyplot as plt"
   ]
  },
  {
   "cell_type": "markdown",
   "id": "981c26e6-c27a-47f4-81d2-a221549915b6",
   "metadata": {},
   "source": [
    "## raffle types:\n",
    "- deterministic static\n",
    "- deterministic increasing\n",
    "- random static\n",
    "- random increasing"
   ]
  },
  {
   "cell_type": "code",
   "execution_count": 95,
   "id": "db76942e-fcb7-4f53-a096-fed52da84bb0",
   "metadata": {},
   "outputs": [],
   "source": [
    "def gen_raff_size(style1, style2, avg, rate, frac):\n",
    "    raffle_size = []\n",
    "    if style1 == 'det':\n",
    "        if style2 == 'stat':\n",
    "            raffle_size = [avg]*53\n",
    "        elif style2 == 'inc':\n",
    "            raffle_size = [avg]\n",
    "            for i in range(53):\n",
    "                raffle_size.append(np.round(raffle_size[-1] + avg*rate))\n",
    "    if style1 == 'rand':\n",
    "        if style2 == 'stat':\n",
    "            for i in range(53):\n",
    "                raffle_size.append(np.random.randint(np.round((1-frac)*avg),np.round((1+frac)*avg+1)))\n",
    "        elif style2 == 'inc':\n",
    "            for i in range(53):\n",
    "                raffle_size.append(np.random.randint(np.round((1-frac)*avg),np.round((1+frac)*avg+1)) + np.round(i*rate*avg*np.random.uniform()))\n",
    "    # print(raffle_size)\n",
    "    # print(np.mean(raffle_size))\n",
    "    return raffle_size"
   ]
  },
  {
   "cell_type": "code",
   "execution_count": 113,
   "id": "2bc059af-122f-4886-ad2c-c83834452978",
   "metadata": {},
   "outputs": [
    {
     "name": "stdout",
     "output_type": "stream",
     "text": [
      "avg pub money: 142.56\n",
      "min pub money: -400.0\n",
      "max pub money: 1550.0\n",
      "avg new punters (overall): 6.871566037735849\n",
      "avg new punters (actual): 4.906345175265229\n",
      "prob losing money 0.507\n"
     ]
    }
   ],
   "source": [
    "pub_money = []\n",
    "raff_means = []\n",
    "new_punts = []\n",
    "increase = 50\n",
    "lost_money_count = 0\n",
    "\n",
    "\n",
    "pint = 10\n",
    "n_sim = 1000\n",
    "\n",
    "for sim in range(n_sim):\n",
    "    raffle_size = gen_raff_size('rand', 'inc', 3, 0.1, 1)\n",
    "    raff_means.append(np.mean(raffle_size))\n",
    "    profit = 0\n",
    "    tot_new_punts = 0\n",
    "    joker_picked = 0\n",
    "    deck_size_wall = 53\n",
    "    jackpot = 50\n",
    "    i=-1\n",
    "    while joker_picked == 0:\n",
    "        i+=1\n",
    "        tot_new_punts += raffle_size[i]\n",
    "        profit += raffle_size[i]*pint\n",
    "        if np.random.randint(0,deck_size_wall) == 0:\n",
    "            joker_picked = 1\n",
    "            profit -= jackpot\n",
    "            day_picked = i + 1\n",
    "        else:\n",
    "            deck_size_wall -= 1\n",
    "            jackpot += 50\n",
    "    if profit < 0:\n",
    "        lost_money_count += 1\n",
    "            \n",
    "    pub_money.append(profit)\n",
    "    new_punts.append(tot_new_punts/day_picked)\n",
    "    \n",
    "print('avg pub money:', np.mean(pub_money))\n",
    "# print('stdev pub money:', np.std(pub_money))\n",
    "print('min pub money:', np.min(pub_money))\n",
    "print('max pub money:', np.max(pub_money))\n",
    "print('avg new punters (overall):', np.mean(raff_means))\n",
    "print('avg new punters (actual):', np.mean(new_punts))\n",
    "print('prob losing money', lost_money_count/n_sim)"
   ]
  },
  {
   "cell_type": "code",
   "execution_count": null,
   "id": "2fc1f77a-a145-4a54-bb25-511fc811b41e",
   "metadata": {},
   "outputs": [],
   "source": []
  }
 ],
 "metadata": {
  "kernelspec": {
   "display_name": "Python 3",
   "language": "python",
   "name": "python3"
  },
  "language_info": {
   "codemirror_mode": {
    "name": "ipython",
    "version": 3
   },
   "file_extension": ".py",
   "mimetype": "text/x-python",
   "name": "python",
   "nbconvert_exporter": "python",
   "pygments_lexer": "ipython3",
   "version": "3.8.8"
  }
 },
 "nbformat": 4,
 "nbformat_minor": 5
}
