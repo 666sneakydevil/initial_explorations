{
 "cells": [
  {
   "cell_type": "code",
   "execution_count": 45,
   "id": "c880d841-58ee-4529-a05e-9b3bd0db84dd",
   "metadata": {},
   "outputs": [],
   "source": [
    "import random\n",
    "import numpy as np\n",
    "import matplotlib.pyplot as plt\n",
    "\n",
    "# The \"chance of staying put at 0\" is the main difference from the\n",
    "# standard implementation of a geometric distribution.\n",
    "\n",
    "# zeroProb() will return 1 if you \"leave 0,\" which effectively\n",
    "# \"turns ON\" the standard implementation in twoSidedGeoDist().\n",
    "def zeroProb(p):\n",
    "  #                    this is the chance of \"staying put at 0\"\n",
    "    if random.random() < (1.0 - p)/(1.0 + p):\n",
    "        return 0\n",
    "    else:\n",
    "        return 1\n",
    "\n",
    "# Coin flip to determine if the result is negative or positive.\n",
    "# This only applies when we \"leave 0.\"\n",
    "def signProb():\n",
    "    if random.random() < 0.5:\n",
    "        return -1\n",
    "    else:\n",
    "        return 1\n",
    "\n",
    "def twoSidedGeoDist(p):\n",
    "  #      (1) Did we \"leave 0\"? [Y=1|N=0]          (3) +/-\n",
    "      return zeroProb(p) * np.random.geometric(1-p) * signProb()\n",
    "#                      (2) \"Leave 0\" i.e. Standard implementation"
   ]
  },
  {
   "cell_type": "code",
   "execution_count": 9,
   "id": "a270305e-f989-4de8-9765-de988ad4221a",
   "metadata": {},
   "outputs": [
    {
     "name": "stdout",
     "output_type": "stream",
     "text": [
      "-12\t2\t2e-06\n",
      "-11\t5\t5e-06\n",
      "-10\t12\t1.2e-05\n",
      "-9\t20\t2e-05\n",
      "-8\t84\t8.4e-05\n",
      "-7\t236\t0.000236\n",
      "-6\t666\t0.000666\n",
      "-5\t2020\t0.00202\n",
      "-4\t6146\t0.006146\n",
      "-3\t18761\t0.018761\n",
      "-2\t55447\t0.055447\n",
      "-1\t166667\t0.166667\n",
      "0\t499944\t0.499944\n",
      "1\t166964\t0.166964\n",
      "2\t55293\t0.055293\n",
      "3\t18282\t0.018282\n",
      "4\t6331\t0.006331\n",
      "5\t2055\t0.002055\n",
      "6\t709\t0.000709\n",
      "7\t239\t0.000239\n",
      "8\t77\t7.7e-05\n",
      "9\t27\t2.7e-05\n",
      "10\t10\t1e-05\n",
      "11\t2\t2e-06\n",
      "14\t1\t1e-06\n"
     ]
    }
   ],
   "source": [
    "alpha = 1.0/3.0\n",
    "counts = {}\n",
    "trials = 1000000\n",
    "for i in range(trials):\n",
    "    result = twoSidedGeoDist(alpha)\n",
    "    if result in counts:\n",
    "        counts[result] = counts[result] + 1\n",
    "    else:\n",
    "        counts[result] = 1\n",
    "\n",
    "for x in sorted(counts.keys()):\n",
    "    print(str(x) + \"\\t\" + str(counts[x]) + \"\\t\" + str(counts[x]*1.0 / trials))"
   ]
  },
  {
   "cell_type": "code",
   "execution_count": 18,
   "id": "8413bf81-6a1d-46f6-a1fb-a486c9c3ac29",
   "metadata": {},
   "outputs": [
    {
     "name": "stdout",
     "output_type": "stream",
     "text": [
      "-3\n"
     ]
    }
   ],
   "source": [
    "round(np.random.triangular(-3, 0, 3))"
   ]
  },
  {
   "cell_type": "code",
   "execution_count": 44,
   "id": "273dad37-037c-4328-acac-a631d8032bc0",
   "metadata": {},
   "outputs": [
    {
     "data": {
      "image/png": "[encoded data removed]",
      "text/plain": [
       "<Figure size 432x288 with 1 Axes>"
      ]
     },
     "metadata": {
      "needs_background": "light"
     },
     "output_type": "display_data"
    }
   ],
   "source": [
    "c =2\n",
    "counts = [round(np.random.triangular(-c, 0, c)) for x in range(100000)]\n",
    "data = np.array(counts)\n",
    "\n",
    "d = np.diff(np.unique(data)).min()\n",
    "left_of_first_bin = data.min() - float(d)/2\n",
    "right_of_last_bin = data.max() + float(d)/2\n",
    "plt.hist(data, np.arange(left_of_first_bin, right_of_last_bin + d, d),  density = True)\n",
    "plt.ylabel('Probability')\n",
    "plt.xlabel('Noise')\n",
    "plt.show()\n",
    "# plt.show()"
   ]
  },
  {
   "cell_type": "code",
   "execution_count": null,
   "id": "bc438193-9898-4307-9a69-a8e355ba040a",
   "metadata": {},
   "outputs": [],
   "source": []
  },
  {
   "cell_type": "code",
   "execution_count": 61,
   "id": "dbdaaa17-c394-4efc-bd66-78d26b5d17a2",
   "metadata": {},
   "outputs": [
    {
     "name": "stdout",
     "output_type": "stream",
     "text": [
      "[2 1 4]\n"
     ]
    }
   ],
   "source": [
    "print(np.random.choice(5,3, replace = False))"
   ]
  },
  {
   "cell_type": "code",
   "execution_count": null,
   "id": "3396dc39-dc5c-43fa-8407-a785e0edc18b",
   "metadata": {},
   "outputs": [],
   "source": []
  }
 ],
 "metadata": {
  "kernelspec": {
   "display_name": "Python 3 (ipykernel)",
   "language": "python",
   "name": "python3"
  },
  "language_info": {
   "codemirror_mode": {
    "name": "ipython",
    "version": 3
   },
   "file_extension": ".py",
   "mimetype": "text/x-python",
   "name": "python",
   "nbconvert_exporter": "python",
   "pygments_lexer": "ipython3",
   "version": "3.9.12"
  }
 },
 "nbformat": 4,
 "nbformat_minor": 5
}
