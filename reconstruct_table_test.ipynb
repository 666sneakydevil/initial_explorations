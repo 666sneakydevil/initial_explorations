{
 "cells": [
  {
   "cell_type": "code",
   "execution_count": 1,
   "id": "be4378de-5774-4e2f-ba2c-12ff74ed2c71",
   "metadata": {},
   "outputs": [],
   "source": [
    "from pulp import *\n",
    "import numpy as np\n",
    "import itertools\n",
    "from collections import deque\n",
    "import numpy as np"
   ]
  },
  {
   "cell_type": "code",
   "execution_count": 3,
   "id": "4c3d8daf-b382-4d95-b65c-f574c136944d",
   "metadata": {},
   "outputs": [
    {
     "name": "stdout",
     "output_type": "stream",
     "text": [
      "[[2.0 3.0 5.0]\n",
      " [2.0 3.0 5.0]\n",
      " [4.0 6.0 10.0]]\n"
     ]
    }
   ],
   "source": [
    "# Create the model\n",
    "m = LpProblem(name=\"test\", sense=LpMinimize)\n",
    "\n",
    "real_table = [[2,3,5],[2,3,5],[4,6,10]]\n",
    "pert_table = [[0,1,-1],[-1,1,0],[1,1,-1]]\n",
    "out_table = np.add(real_table,pert_table)\n",
    "\n",
    "i_max = len(out_table) - 1\n",
    "j_max = len(out_table) - 1\n",
    "\n",
    "# Initialize the decision variables\n",
    "x = np.array([[LpVariable(name=f\"x_{i}_{j}\", cat='Integer') \n",
    "               for i in range(i_max + 1)] for j in range(j_max +1)])\n",
    "\n",
    "# Add the constraints to the model\n",
    "for i in range(i_max+1):\n",
    "    for j in range(j_max+1):\n",
    "        m += x[i][j] <= out_table[i][j] +1\n",
    "        m += x[i][j] >= out_table[i][j] -1\n",
    "        \n",
    "for i in range(i_max+1):\n",
    "    m += lpSum(x[i,:][0:j_max]) == x[i][j_max]\n",
    "    \n",
    "for j in range(j_max+1):\n",
    "    m += lpSum(x[:,j][0:i_max]) == x[i_max][j]\n",
    "    \n",
    "    \n",
    "# Add the objective function to the model\n",
    "\n",
    "m += 0\n",
    "\n",
    "# Solve the problem\n",
    "status = m.solve()\n",
    "\n",
    "out_x = np.zeros_like(x)\n",
    "for i in range(len(x)):\n",
    "    for j in range(len(x[0])):\n",
    "        out_x[i][j] = x[i][j].value()\n",
    "print(out_x)\n",
    "\n",
    "# print(f\"status: {m.status}, {LpStatus[m.status]}\")\n",
    "# print(f\"objective: {m.objective.value()}\")\n",
    "# for var in m.variables():\n",
    "#     print(f\"{var.name}: {var.value()}\")\n",
    "    \n",
    "# for name, constraint in m.constraints.items():\n",
    "#     print(f\"{name}: {constraint.value()}\")"
   ]
  },
  {
   "cell_type": "code",
   "execution_count": null,
   "id": "42582dd3-e202-453b-825c-7b9b7441e32f",
   "metadata": {},
   "outputs": [],
   "source": []
  }
 ],
 "metadata": {
  "kernelspec": {
   "display_name": "Python 3",
   "language": "python",
   "name": "python3"
  },
  "language_info": {
   "codemirror_mode": {
    "name": "ipython",
    "version": 3
   },
   "file_extension": ".py",
   "mimetype": "text/x-python",
   "name": "python",
   "nbconvert_exporter": "python",
   "pygments_lexer": "ipython3",
   "version": "3.8.8"
  }
 },
 "nbformat": 4,
 "nbformat_minor": 5
}
