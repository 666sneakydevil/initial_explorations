{
 "cells": [
  {
   "cell_type": "code",
   "execution_count": 302,
   "id": "12569984-f6ba-4282-a558-3d9c90e608ec",
   "metadata": {},
   "outputs": [],
   "source": [
    "import pandas as pd\n",
    "import numpy as np\n",
    "import matplotlib.pyplot as plt\n",
    "from sklearn import datasets\n",
    "import itertools\n",
    "from collections import defaultdict\n",
    "import io\n",
    "import gurobipy as gp\n",
    "from gurobipy import GRB\n",
    "from itertools import combinations"
   ]
  },
  {
   "cell_type": "code",
   "execution_count": 392,
   "id": "620becbe-9c6f-429b-9fa3-6db7c81100cc",
   "metadata": {},
   "outputs": [],
   "source": [
    "def gen_sols(n,m,quer_dict,noise):\n",
    "    M = gp.Model()\n",
    "    # M.Params.OutputFlag = 0\n",
    "    \n",
    "    y_var_dict = defaultdict()\n",
    "    y_p_var_dict = defaultdict()\n",
    "    y_n_var_dict = defaultdict()\n",
    "\n",
    "    # Initialize the decision variables\n",
    "    x = np.array([[M.addVar(vtype='B', name=f\"x_{i}_{j}\") \n",
    "                   for j in range(m)] for i in range(n)])\n",
    "    # print(x)\n",
    "    \n",
    "    for quer in quer_dict.keys():\n",
    "        y_var_dict[quer] = []\n",
    "        y_p_var_dict[quer] = []\n",
    "        y_n_var_dict[quer] = []\n",
    "        \n",
    "        positions = []\n",
    "        for pos, att in enumerate(quer):\n",
    "            if att == 1: \n",
    "                positions.append(pos)\n",
    "        for i in range(n):\n",
    "            y_var_dict[quer].append(M.addVar(vtype='B', name=f\"y_{quer}_{i}\"))\n",
    "            y_p_var_dict[quer].append(M.addVar(vtype='B', name=f\"y_p_{quer}_{i}\"))\n",
    "            y_n_var_dict[quer].append(M.addVar(vtype='B', name=f\"y_n_{quer}_{i}\"))\n",
    "            \n",
    "            M.addConstr( sum(quer)*y_var_dict[quer][i] + (sum(quer)+0.5)*y_p_var_dict[quer][i] <= sum([x[i][j] for j in positions]))\n",
    "            M.addConstr( (sum(quer)-0.5)*y_n_var_dict[quer][i] + sum(quer)*y_var_dict[quer][i] + m*y_p_var_dict[quer][i] >= sum([x[i][j] for j in positions]))\n",
    "            M.addConstr( y_var_dict[quer][i] + y_p_var_dict[quer][i] + y_n_var_dict[quer][i] == 1)\n",
    "            \n",
    "            # M.addConstr(sum([x[i][j] for j in positions]) <= sum(quer) + (m+1)*(1-y_var_dict[quer][i]))\n",
    "            # M.addConstr(sum([x[i][j] for j in positions]) >= sum(quer) - (m+1)*(1-y_var_dict[quer][i]))\n",
    "            \n",
    "        if noise == 0:\n",
    "            M.addConstr(sum(y_var_dict[quer]) == quer_dict[quer])\n",
    "        else:\n",
    "            M.addConstr(sum(y_var_dict[quer]) <= quer_dict[quer] + noise)\n",
    "            M.addConstr(sum(y_var_dict[quer]) >= quer_dict[quer] - noise)\n",
    "            \n",
    "    # for i in range(n):\n",
    "    #     M.addConstr()\n",
    "       \n",
    "    # obj_lst = []\n",
    "#     for lst in y_var_dict.values():\n",
    "#         obj_lst+=lst\n",
    "        \n",
    "#     M.setObjective(sum(obj_lst) , GRB.MINIMIZE)\n",
    "\n",
    "#     # Add the constraints to the model\n",
    "#     for i in range(i_max+1):\n",
    "#         for j in range(j_max+1):\n",
    "#             m.addConstr(x[i][j] <= out_table[i][j] +1)\n",
    "#             m.addConstr(x[i][j] >= out_table[i][j] -1)\n",
    "\n",
    "#     for i in range(i_max+1):\n",
    "#         m.addConstr(sum(x[i,:][0:j_max]) == x[i][j_max])\n",
    "\n",
    "#     for j in range(j_max+1):\n",
    "#         m.addConstr(sum(x[:,j][0:i_max]) == x[i_max][j])\n",
    "\n",
    "    # Parameters\n",
    "    M.Params.PoolSearchMode = 2\n",
    "    M.Params.PoolSolutions = 1\n",
    "    # m.Params.PoolSolutions = 2\n",
    "    M.Params.PoolGap = 0.0\n",
    "\n",
    "    # Optimize\n",
    "    M.optimize()\n",
    "    \n",
    "    out_lst = []\n",
    "\n",
    "\n",
    "    for k in range(M.SolCount):\n",
    "        M.Params.SolutionNumber = k\n",
    "        out_x = np.zeros_like(x)\n",
    "        for i in range(len(x)):\n",
    "            for j in range(len(x[0])):\n",
    "                out_x[i][j] = x[i][j].Xn\n",
    "        # print([var.Xn for var in m.getVars()])\n",
    "        out_lst.append(out_x)\n",
    "        \n",
    "    return out_x"
   ]
  },
  {
   "cell_type": "code",
   "execution_count": 289,
   "id": "7261932e-d490-4602-9829-b56b3f026c3e",
   "metadata": {},
   "outputs": [],
   "source": [
    "def gen_bin_data_set(n,m):\n",
    "    \"\"\"n is number of people, m is number of attributes used, database is uniform random\"\"\"\n",
    "    db = pd.DataFrame(np.random.randint(0,2,size=(n, m)), columns=[f'att_{x}' for x in range(m)])\n",
    "    return db"
   ]
  },
  {
   "cell_type": "code",
   "execution_count": 420,
   "id": "e0e36705-b67d-4682-9905-7c1bf102e1e5",
   "metadata": {},
   "outputs": [],
   "source": [
    "def gen_queries_frac(m,frac,n_queries):\n",
    "    \"\"\"Generates random queries. Removes repeated queries\"\"\"\n",
    "    \n",
    "    queries = np.random.choice([0,1], size=[n_queries,m], p=[1-frac,frac])\n",
    "    queries = list(set([tuple(x) for x in queries]))\n",
    "    \n",
    "    if tuple([0]*m) in queries:\n",
    "        queries.remove(tuple([0]*m))\n",
    "    return queries"
   ]
  },
  {
   "cell_type": "code",
   "execution_count": 291,
   "id": "321ce7a6-db6e-4ed2-9ea7-c6e2833d1e97",
   "metadata": {},
   "outputs": [],
   "source": [
    "def quer2string(query):\n",
    "    string = \"\"\n",
    "    for pos, att in enumerate(query):\n",
    "        if att == 1:\n",
    "            string += f'att_{pos} == 1 & '\n",
    "    return string[0:-3]"
   ]
  },
  {
   "cell_type": "code",
   "execution_count": 411,
   "id": "a016cd56-cfa7-4a03-8ed5-49341943e88b",
   "metadata": {},
   "outputs": [],
   "source": [
    "def get_counts(db,quers,noise):\n",
    "    \"\"\"Returns noisy count of query, noise is uniform random integer over -noise to noise (inclusive). \n",
    "    Will perturb negative counts to 0.\"\"\"\n",
    "    out_dict = defaultdict(int)\n",
    "    for query in quers:\n",
    "        out_dict[tuple(query)] = max(len(db.query(quer2string(query))) + np.random.randint(-noise,noise+1),0)\n",
    "    return out_dict"
   ]
  },
  {
   "cell_type": "code",
   "execution_count": 380,
   "id": "17b37a17-1be0-496e-b109-e471d8a1843b",
   "metadata": {},
   "outputs": [],
   "source": [
    "def binatodeci(binary):\n",
    "    return sum(val*(2**idx) for idx, val in enumerate(reversed(binary)))"
   ]
  },
  {
   "cell_type": "code",
   "execution_count": 422,
   "id": "6fe95efc-b5a8-4639-a44f-b979232a579f",
   "metadata": {},
   "outputs": [
    {
     "data": {
      "text/html": [
       "<div>\n",
       "<style scoped>\n",
       "    .dataframe tbody tr th:only-of-type {\n",
       "        vertical-align: middle;\n",
       "    }\n",
       "\n",
       "    .dataframe tbody tr th {\n",
       "        vertical-align: top;\n",
       "    }\n",
       "\n",
       "    .dataframe thead th {\n",
       "        text-align: right;\n",
       "    }\n",
       "</style>\n",
       "<table border=\"1\" class=\"dataframe\">\n",
       "  <thead>\n",
       "    <tr style=\"text-align: right;\">\n",
       "      <th></th>\n",
       "      <th>att_0</th>\n",
       "      <th>att_1</th>\n",
       "      <th>att_2</th>\n",
       "      <th>att_3</th>\n",
       "    </tr>\n",
       "  </thead>\n",
       "  <tbody>\n",
       "    <tr>\n",
       "      <th>0</th>\n",
       "      <td>1</td>\n",
       "      <td>1</td>\n",
       "      <td>0</td>\n",
       "      <td>1</td>\n",
       "    </tr>\n",
       "    <tr>\n",
       "      <th>1</th>\n",
       "      <td>1</td>\n",
       "      <td>0</td>\n",
       "      <td>1</td>\n",
       "      <td>0</td>\n",
       "    </tr>\n",
       "    <tr>\n",
       "      <th>2</th>\n",
       "      <td>0</td>\n",
       "      <td>0</td>\n",
       "      <td>1</td>\n",
       "      <td>0</td>\n",
       "    </tr>\n",
       "    <tr>\n",
       "      <th>3</th>\n",
       "      <td>1</td>\n",
       "      <td>1</td>\n",
       "      <td>1</td>\n",
       "      <td>1</td>\n",
       "    </tr>\n",
       "    <tr>\n",
       "      <th>4</th>\n",
       "      <td>1</td>\n",
       "      <td>0</td>\n",
       "      <td>0</td>\n",
       "      <td>1</td>\n",
       "    </tr>\n",
       "    <tr>\n",
       "      <th>5</th>\n",
       "      <td>0</td>\n",
       "      <td>1</td>\n",
       "      <td>1</td>\n",
       "      <td>0</td>\n",
       "    </tr>\n",
       "    <tr>\n",
       "      <th>6</th>\n",
       "      <td>0</td>\n",
       "      <td>0</td>\n",
       "      <td>1</td>\n",
       "      <td>0</td>\n",
       "    </tr>\n",
       "    <tr>\n",
       "      <th>7</th>\n",
       "      <td>1</td>\n",
       "      <td>0</td>\n",
       "      <td>1</td>\n",
       "      <td>1</td>\n",
       "    </tr>\n",
       "    <tr>\n",
       "      <th>8</th>\n",
       "      <td>0</td>\n",
       "      <td>1</td>\n",
       "      <td>0</td>\n",
       "      <td>0</td>\n",
       "    </tr>\n",
       "    <tr>\n",
       "      <th>9</th>\n",
       "      <td>1</td>\n",
       "      <td>0</td>\n",
       "      <td>0</td>\n",
       "      <td>0</td>\n",
       "    </tr>\n",
       "  </tbody>\n",
       "</table>\n",
       "</div>"
      ],
      "text/plain": [
       "   att_0  att_1  att_2  att_3\n",
       "0      1      1      0      1\n",
       "1      1      0      1      0\n",
       "2      0      0      1      0\n",
       "3      1      1      1      1\n",
       "4      1      0      0      1\n",
       "5      0      1      1      0\n",
       "6      0      0      1      0\n",
       "7      1      0      1      1\n",
       "8      0      1      0      0\n",
       "9      1      0      0      0"
      ]
     },
     "metadata": {},
     "output_type": "display_data"
    },
    {
     "name": "stdout",
     "output_type": "stream",
     "text": [
      "Number of Queries: 15\n",
      "Set parameter PoolSearchMode to value 2\n",
      "Set parameter PoolSolutions to value 1\n",
      "Set parameter PoolGap to value 0\n",
      "Gurobi Optimizer version 9.5.2 build v9.5.2rc0 (mac64[x86])\n",
      "Thread count: 4 physical cores, 8 logical processors, using up to 8 threads\n",
      "Optimize a model with 480 rows, 490 columns and 2140 nonzeros\n",
      "Model fingerprint: 0xc197177a\n",
      "Variable types: 0 continuous, 490 integer (490 binary)\n",
      "Coefficient statistics:\n",
      "  Matrix range     [5e-01, 4e+00]\n",
      "  Objective range  [0e+00, 0e+00]\n",
      "  Bounds range     [1e+00, 1e+00]\n",
      "  RHS range        [1e+00, 8e+00]\n",
      "Presolve removed 233 rows and 340 columns\n",
      "Presolve time: 0.00s\n",
      "Presolved: 247 rows, 150 columns, 1050 nonzeros\n",
      "Variable types: 0 continuous, 150 integer (150 binary)\n",
      "Found heuristic solution: objective 0.0000000\n",
      "\n",
      "Explored 0 nodes (0 simplex iterations) in 0.01 seconds (0.00 work units)\n",
      "Thread count was 8 (of 8 available processors)\n",
      "\n",
      "Solution count 1: 0 \n",
      "\n",
      "Optimal solution found (tolerance 1.00e-04)\n",
      "Best objective 0.000000000000e+00, best bound 0.000000000000e+00, gap 0.0000%\n",
      "[(0, 0, 0, 0), (0, 0, 0, 0), (1, 0, 0, 0), (1, 0, 1, 0), (1, 0, 1, 0), (1, 0, 1, 1), (1, 1, 1, 1), (0, 0, 1, 0), (1, 1, 0, 1), (1, 0, 0, 1)]\n",
      "[(1, 1, 0, 1), (1, 0, 1, 0), (0, 0, 1, 0), (1, 1, 1, 1), (1, 0, 0, 1), (0, 1, 1, 0), (0, 0, 1, 0), (1, 0, 1, 1), (0, 1, 0, 0), (1, 0, 0, 0)]\n",
      "70.00% Similarity\n",
      "{(0, 0, 1, 0): 1, (1, 0, 1, 1): 1, (1, 0, 1, 0): 2, (0, 0, 0, 0): 2, (1, 0, 0, 1): 1, (1, 1, 0, 1): 1, (1, 0, 0, 0): 1, (1, 1, 1, 1): 1}\n",
      "False\n"
     ]
    }
   ],
   "source": [
    "n = 10\n",
    "m = 4\n",
    "n_queries = 400\n",
    "frac = 0.5\n",
    "noise = 1\n",
    "db = gen_bin_data_set(n,m)\n",
    "display(db)\n",
    "quers = gen_queries_frac(m,frac,n_queries)\n",
    "# print(quers)\n",
    "print(f\"Number of Queries: {len(quers)}\")\n",
    "# print(quers)\n",
    "quer_dict = get_counts(db,quers,noise)\n",
    "# print(quer_dict)\n",
    "\n",
    "#solving:\n",
    "sol = np.array(gen_sols(n,m,quer_dict,noise), dtype=int) \n",
    "\n",
    "sol_tup = [tuple(x) for x in sol]\n",
    "db_tup = [tuple(x) for x in list(db.to_numpy())]\n",
    "\n",
    "print(sol_tup)\n",
    "print(db_tup)\n",
    "\n",
    "sol_tup, common = sol_tup[:], [ e for e in db_tup if e in sol_tup and (sol_tup.pop(sol_tup.index(e)) or True)]\n",
    "\n",
    "print(f\"{len(common)/len(sol_tup)*100:.2f}% Similarity\")\n",
    "\n",
    "\n",
    "sol_dict = {i:sol_tup.count(i) for i in set(sol_tup)}\n",
    "db_dict = {i:db_tup.count(i) for i in set(db_tup)}\n",
    "# print(db_dict)\n",
    "print(sol_dict)\n",
    "print(db_dict == sol_dict)"
   ]
  },
  {
   "cell_type": "code",
   "execution_count": 305,
   "id": "80c6099d-70ef-4d26-b1d2-69aa1b0a8484",
   "metadata": {},
   "outputs": [
    {
     "name": "stdout",
     "output_type": "stream",
     "text": [
      "True\n"
     ]
    }
   ],
   "source": [
    "print({'a': 3, 'b': 2} == {'b': 2, 'a': 3})"
   ]
  },
  {
   "cell_type": "code",
   "execution_count": 93,
   "id": "dbd828cf-bebe-4835-a797-a746efa67fd2",
   "metadata": {},
   "outputs": [
    {
     "data": {
      "text/html": [
       "<div>\n",
       "<style scoped>\n",
       "    .dataframe tbody tr th:only-of-type {\n",
       "        vertical-align: middle;\n",
       "    }\n",
       "\n",
       "    .dataframe tbody tr th {\n",
       "        vertical-align: top;\n",
       "    }\n",
       "\n",
       "    .dataframe thead th {\n",
       "        text-align: right;\n",
       "    }\n",
       "</style>\n",
       "<table border=\"1\" class=\"dataframe\">\n",
       "  <thead>\n",
       "    <tr style=\"text-align: right;\">\n",
       "      <th></th>\n",
       "      <th>A</th>\n",
       "      <th>B</th>\n",
       "      <th>C C</th>\n",
       "    </tr>\n",
       "  </thead>\n",
       "  <tbody>\n",
       "    <tr>\n",
       "      <th>0</th>\n",
       "      <td>1</td>\n",
       "      <td>10</td>\n",
       "      <td>10</td>\n",
       "    </tr>\n",
       "    <tr>\n",
       "      <th>1</th>\n",
       "      <td>2</td>\n",
       "      <td>8</td>\n",
       "      <td>9</td>\n",
       "    </tr>\n",
       "    <tr>\n",
       "      <th>2</th>\n",
       "      <td>3</td>\n",
       "      <td>6</td>\n",
       "      <td>8</td>\n",
       "    </tr>\n",
       "    <tr>\n",
       "      <th>3</th>\n",
       "      <td>4</td>\n",
       "      <td>4</td>\n",
       "      <td>7</td>\n",
       "    </tr>\n",
       "    <tr>\n",
       "      <th>4</th>\n",
       "      <td>5</td>\n",
       "      <td>2</td>\n",
       "      <td>6</td>\n",
       "    </tr>\n",
       "  </tbody>\n",
       "</table>\n",
       "</div>"
      ],
      "text/plain": [
       "   A   B  C C\n",
       "0  1  10   10\n",
       "1  2   8    9\n",
       "2  3   6    8\n",
       "3  4   4    7\n",
       "4  5   2    6"
      ]
     },
     "metadata": {},
     "output_type": "display_data"
    },
    {
     "data": {
      "text/html": [
       "<div>\n",
       "<style scoped>\n",
       "    .dataframe tbody tr th:only-of-type {\n",
       "        vertical-align: middle;\n",
       "    }\n",
       "\n",
       "    .dataframe tbody tr th {\n",
       "        vertical-align: top;\n",
       "    }\n",
       "\n",
       "    .dataframe thead th {\n",
       "        text-align: right;\n",
       "    }\n",
       "</style>\n",
       "<table border=\"1\" class=\"dataframe\">\n",
       "  <thead>\n",
       "    <tr style=\"text-align: right;\">\n",
       "      <th></th>\n",
       "      <th>A</th>\n",
       "      <th>B</th>\n",
       "      <th>C C</th>\n",
       "    </tr>\n",
       "  </thead>\n",
       "  <tbody>\n",
       "    <tr>\n",
       "      <th>0</th>\n",
       "      <td>1</td>\n",
       "      <td>10</td>\n",
       "      <td>10</td>\n",
       "    </tr>\n",
       "  </tbody>\n",
       "</table>\n",
       "</div>"
      ],
      "text/plain": [
       "   A   B  C C\n",
       "0  1  10   10"
      ]
     },
     "metadata": {},
     "output_type": "display_data"
    }
   ],
   "source": [
    "df = pd.DataFrame({'A': range(1, 6),\n",
    "                   'B': range(10, 0, -2),\n",
    "                   'C C': range(10, 5, -1)})\n",
    "display(df)\n",
    "display(df.query('10 == B and '))"
   ]
  },
  {
   "cell_type": "code",
   "execution_count": 112,
   "id": "afb0c028-de71-4794-a0b5-09b25f85873b",
   "metadata": {},
   "outputs": [
    {
     "name": "stdout",
     "output_type": "stream",
     "text": [
      "[1, 3, 6]\n"
     ]
    }
   ],
   "source": [
    "lst = []\n",
    "for pos, att in enumerate([0,1,0,1,0,0,1]):\n",
    "    if att == 1: \n",
    "        lst.append(pos)\n",
    "print(lst)"
   ]
  },
  {
   "cell_type": "code",
   "execution_count": 165,
   "id": "53f0a475-8835-4a27-9530-5d2ae05117f0",
   "metadata": {},
   "outputs": [
    {
     "data": {
      "text/plain": [
       "[0, 1, 2, 2, 3, 4]"
      ]
     },
     "execution_count": 165,
     "metadata": {},
     "output_type": "execute_result"
    }
   ],
   "source": [
    "out = []\n",
    "for lst in [[0,1,2],[2,3,4]]:\n",
    "    out+=lst\n",
    "out"
   ]
  },
  {
   "cell_type": "code",
   "execution_count": 204,
   "id": "b16655ab-016b-4b19-9814-9abd1e42a9e3",
   "metadata": {},
   "outputs": [
    {
     "name": "stdout",
     "output_type": "stream",
     "text": [
      "[(1, 0, 0, 0), (0, 0, 0, 0)]\n",
      "[(1, 0, 0, 0)]\n",
      "[1, 1, 1, 1]\n"
     ]
    }
   ],
   "source": [
    "lst = [(1,0,0,0),(0,0,0,0),(1,0,0,0)]\n",
    "lst = list(set([tuple(x) for x in lst]))\n",
    "print(lst)\n",
    "lst.remove((0,0,0,0))\n",
    "print(lst)\n",
    "print(tuple([1]*4))"
   ]
  },
  {
   "cell_type": "code",
   "execution_count": 332,
   "id": "6e885e9c-87b1-432e-b998-6ec39e9e2ed1",
   "metadata": {},
   "outputs": [
    {
     "name": "stdout",
     "output_type": "stream",
     "text": [
      "1\n"
     ]
    }
   ],
   "source": [
    "print(np.random.randint(-1,2))"
   ]
  },
  {
   "cell_type": "code",
   "execution_count": 405,
   "id": "cae29609-5a0c-4c94-aa29-f6ddbf49a165",
   "metadata": {},
   "outputs": [
    {
     "data": {
      "text/plain": [
       "[1, 1]"
      ]
     },
     "execution_count": 405,
     "metadata": {},
     "output_type": "execute_result"
    }
   ],
   "source": [
    "l1 = [1,1,1,4,5]\n",
    "l2 = [1,1,0,8,9]\n",
    " \n",
    "l2, common = l2[:], [ e for e in l1 if e in l2 and (l2.pop(l2.index(e)) or True)]\n",
    "common"
   ]
  },
  {
   "cell_type": "code",
   "execution_count": null,
   "id": "5f83be41-cdc4-4e68-a0ab-d4173895fed6",
   "metadata": {},
   "outputs": [],
   "source": []
  }
 ],
 "metadata": {
  "kernelspec": {
   "display_name": "Python 3",
   "language": "python",
   "name": "python3"
  },
  "language_info": {
   "codemirror_mode": {
    "name": "ipython",
    "version": 3
   },
   "file_extension": ".py",
   "mimetype": "text/x-python",
   "name": "python",
   "nbconvert_exporter": "python",
   "pygments_lexer": "ipython3",
   "version": "3.8.8"
  }
 },
 "nbformat": 4,
 "nbformat_minor": 5
}
