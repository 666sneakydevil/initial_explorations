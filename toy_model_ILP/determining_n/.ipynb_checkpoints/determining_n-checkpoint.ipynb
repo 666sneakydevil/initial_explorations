{
 "cells": [
  {
   "cell_type": "code",
   "execution_count": 1,
   "id": "6750ba1b-5df2-42d8-a60b-84dfefd61ed8",
   "metadata": {},
   "outputs": [],
   "source": [
    "import pandas as pd\n",
    "import numpy as np\n",
    "import matplotlib.pyplot as plt\n",
    "from sklearn import datasets\n",
    "import itertools\n",
    "from collections import defaultdict\n",
    "from collections import Counter\n",
    "import io\n",
    "import gurobipy as gp\n",
    "from gurobipy import GRB\n",
    "from itertools import combinations\n",
    "from random import sample\n",
    "import math\n",
    "import json\n",
    "import random\n",
    "import os\n",
    "# plt.rcParams.update({\n",
    "#     \"text.usetex\": True,\n",
    "#     \"font.family\": \"serif\",\n",
    "#     \"font.serif\": ['Computer Modern Roman'],\n",
    "# })"
   ]
  },
  {
   "cell_type": "code",
   "execution_count": null,
   "id": "e200dd16-a42a-4990-b905-24b2e4a76ee0",
   "metadata": {},
   "outputs": [],
   "source": [
    "def determine_n(n,m,quer_info,N_q,noise,n_sols):\n",
    "    \n",
    "    M = gp.Model()\n",
    "    M.Params.OutputFlag = 0\n",
    "    \n",
    "    # Initialize the decision variables\n",
    "    n = M.addVar(vtype='I', name=f\"n\") \n",
    "    M.addConstr(n >= 0)\n",
    "    \n",
    "    count = 0\n",
    "    \n",
    "    for info in quer_info:\n",
    "        if count > N_q: break\n",
    "        \n",
    "        for sample in info[1]:\n",
    "            if count > N_q: break\n",
    "            M.addConstr(n <= sample + info[0])\n",
    "            M.addConstr(n >= sample - info[0])\n",
    "            count += 1\n",
    "            \n",
    "    # Parameters\n",
    "    M.Params.PoolSearchMode = 2\n",
    "    M.Params.PoolSolutions = 2**10\n",
    "    # m.Params.PoolSolutions = 2\n",
    "    M.Params.PoolGap = 0.0\n",
    "\n",
    "    # Optimize\n",
    "    M.optimize()\n",
    "    \n",
    "    # print(f\"Took {M.Runtime:.2f} seconds to solve\")\n",
    "    \n",
    "    if M.solCount == 0:\n",
    "        print(\"infeasible\")\n",
    "    \n",
    "    out_lst = []\n",
    "    for k in range(M.SolCount):\n",
    "        M.Params.SolutionNumber = k\n",
    "        # out_x = np.zeros_like(x)\n",
    "        # for i in range(len(x)):\n",
    "        #     for j in range(len(x[0])):\n",
    "        #         out_x[i][j] = x[i][j].Xn\n",
    "        # # print([var.Xn for var in m.getVars()])\n",
    "        out_lst.append(n.Xn)\n",
    "        \n",
    "    return out_lst"
   ]
  },
  {
   "cell_type": "code",
   "execution_count": 41,
   "id": "88fd6805-c076-4c1e-a66c-ab4c355c8912",
   "metadata": {},
   "outputs": [
    {
     "name": "stdout",
     "output_type": "stream",
     "text": [
      "[[2, [9]], [4, [13, 9, 10, 9, 11]], [8, [13, 8, 11, 10, 12, 10, 11, 10, 9, 6]], [16, [5, 11, 10, 12, 12, 13, 7, 14, 9, 9]], [32, [9, 15, 5, 7, 16]], [64, [0]]]\n"
     ]
    }
   ],
   "source": [
    "def Y_j(c,dist):\n",
    "    if dist == 'uniform':\n",
    "        return np.random.randint(-c,c+1)\n",
    "    elif dist == 'triangle':\n",
    "        return round(np.random.triangular(-c, 0, c))\n",
    "    return None\n",
    "    \n",
    "    \n",
    "def gen_queries_determining_n(n,m,c,dist):\n",
    "    \n",
    "    queries = []\n",
    "    \n",
    "    for i in range(m+1):\n",
    "        quer = []\n",
    "        quer.append(c*(2**i))\n",
    "        samps = []\n",
    "        for j in range(len(list(itertools.combinations(range(m),i)))):\n",
    "            samps.append(n + sum(Y_j(c,dist) for x in range(2**i)))\n",
    "        quer.append(samps)\n",
    "        queries.append(quer)\n",
    "\n",
    "    return queries\n",
    "print(gen_queries_determining_n(10,5,2,'uniform'))"
   ]
  },
  {
   "cell_type": "code",
   "execution_count": 13,
   "id": "9187316b-531f-4818-b358-a9a11ca200fa",
   "metadata": {},
   "outputs": [
    {
     "name": "stdout",
     "output_type": "stream",
     "text": [
      "2\n"
     ]
    }
   ],
   "source": [
    "print(np.random.randint(-2,2+1))"
   ]
  },
  {
   "cell_type": "code",
   "execution_count": 39,
   "id": "f6fb918a-1b99-470c-a0aa-6e5fa3bc0df4",
   "metadata": {},
   "outputs": [
    {
     "name": "stdout",
     "output_type": "stream",
     "text": [
      "1\n"
     ]
    }
   ],
   "source": [
    "\n",
    "print(len(list(itertools.combinations(range(3),3))))"
   ]
  },
  {
   "cell_type": "code",
   "execution_count": 16,
   "id": "7f78a98e-0e3d-4c37-bb07-329e241ebfe9",
   "metadata": {},
   "outputs": [
    {
     "name": "stdout",
     "output_type": "stream",
     "text": [
      "[((0,), (0,)), ((0,), (1,)), ((1,), (0,)), ((1,), (1,)), ((2,), (0,)), ((2,), (1,)), ((0, 1), (0, 0)), ((0, 1), (0, 1)), ((0, 1), (1, 0)), ((0, 1), (1, 1)), ((0, 2), (0, 0)), ((0, 2), (0, 1)), ((0, 2), (1, 0)), ((0, 2), (1, 1)), ((1, 2), (0, 0)), ((1, 2), (0, 1)), ((1, 2), (1, 0)), ((1, 2), (1, 1)), ((0, 1, 2), (0, 0, 0)), ((0, 1, 2), (0, 0, 1)), ((0, 1, 2), (0, 1, 0)), ((0, 1, 2), (0, 1, 1)), ((0, 1, 2), (1, 0, 0)), ((0, 1, 2), (1, 0, 1)), ((0, 1, 2), (1, 1, 0)), ((0, 1, 2), (1, 1, 1))]\n"
     ]
    }
   ],
   "source": [
    "def gen_powerset(k):\n",
    "    \"\"\" generates a powerset of k elements \"\"\"\n",
    "    out = []\n",
    "    for i in itertools.product([0,1],repeat=k):\n",
    "        out.append(i)\n",
    "    return out\n",
    "\n",
    "def gen_queries_uniform_complete(m,n_queries):\n",
    "    \"\"\"Generates all possible queries of m binary attributes, \n",
    "    takes a sample of size n_queries from the set\"\"\"\n",
    "        \n",
    "    queries = []\n",
    "    for i in range(1,m+1):\n",
    "        \n",
    "        combs = itertools.combinations(range(m),i)\n",
    "        for comb in combs:\n",
    "            for choice in gen_powerset(i):\n",
    "                quer = []\n",
    "                quer.append(comb)\n",
    "                quer.append(choice)\n",
    "                queries.append(tuple(quer))\n",
    "                \n",
    "    return queries\n",
    "\n",
    "print(gen_queries_uniform_complete(3,100))"
   ]
  },
  {
   "cell_type": "code",
   "execution_count": null,
   "id": "fa5637d9-8af9-4844-be60-a95a0ea68971",
   "metadata": {},
   "outputs": [],
   "source": []
  }
 ],
 "metadata": {
  "kernelspec": {
   "display_name": "Python 3 (ipykernel)",
   "language": "python",
   "name": "python3"
  },
  "language_info": {
   "codemirror_mode": {
    "name": "ipython",
    "version": 3
   },
   "file_extension": ".py",
   "mimetype": "text/x-python",
   "name": "python",
   "nbconvert_exporter": "python",
   "pygments_lexer": "ipython3",
   "version": "3.9.12"
  }
 },
 "nbformat": 4,
 "nbformat_minor": 5
}
